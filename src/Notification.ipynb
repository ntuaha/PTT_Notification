{
 "cells": [
  {
   "cell_type": "code",
   "execution_count": 2,
   "metadata": {
    "collapsed": false
   },
   "outputs": [],
   "source": [
    "import requests"
   ]
  },
  {
   "cell_type": "markdown",
   "metadata": {},
   "source": [
    "## 爬取最新的文章列表\n"
   ]
  },
  {
   "cell_type": "code",
   "execution_count": 52,
   "metadata": {
    "collapsed": false
   },
   "outputs": [],
   "source": [
    "def get_web_page(url):\n",
    "    headers = {\n",
    "        'cache-control': \"no-cache\"\n",
    "    }\n",
    "    r = requests.request(\"GET\", url, headers=headers, cookies={'over18': '1'})\n",
    "    if r.status_code != 200:\n",
    "        print('Invalid url:', r.url)\n",
    "        return None\n",
    "    else:\n",
    "        return r.text"
   ]
  },
  {
   "cell_type": "code",
   "execution_count": 57,
   "metadata": {
    "collapsed": false
   },
   "outputs": [],
   "source": [
    "board = \"Drama-Ticket\"\n",
    "url = \"https://www.ptt.cc/bbs/%s/index.html\"%board"
   ]
  },
  {
   "cell_type": "markdown",
   "metadata": {},
   "source": [
    "## 抓取文內所有文章連結與標題\n",
    "### 參考文件\n",
    "1. https://www.crummy.com/software/BeautifulSoup/bs4/doc/\n",
    "2. http://blog.castman.net/%E6%95%99%E5%AD%B8/2016/12/22/python-data-science-tutorial-3.html"
   ]
  },
  {
   "cell_type": "code",
   "execution_count": 55,
   "metadata": {
    "collapsed": true
   },
   "outputs": [],
   "source": [
    "from bs4 import BeautifulSoup\n",
    "import time\n",
    "import re"
   ]
  },
  {
   "cell_type": "code",
   "execution_count": 149,
   "metadata": {
    "collapsed": true
   },
   "outputs": [],
   "source": [
    "def get_articles(html, date):\n",
    "    articles = []  # 儲存取得的文章資料\n",
    "    soup = BeautifulSoup(html, 'html.parser')\n",
    "    divs = soup.find_all('div', 'r-ent')\n",
    "    go_prev = False\n",
    "    for d in divs:\n",
    "        if d.find('div', 'date').string == date:  # 發文日期正確\n",
    "            # 取得推文數\n",
    "            push_count = 0\n",
    "            if d.find('div', 'nrec').string:\n",
    "                try:\n",
    "                    push_count = int(d.find('div', 'nrec').string)  # 轉換字串為數字\n",
    "                except ValueError:  # 若轉換失敗，不做任何事，push_count 保持為 0\n",
    "                    pass\n",
    "\n",
    "            # 取得文章連結及標題\n",
    "            if d.find('a'):  # 有超連結，表示文章存在，未被刪除\n",
    "                href = d.find('a')['href']\n",
    "                title = d.find('a').string\n",
    "                articles.append({\n",
    "                    'title': title,\n",
    "                    'href': href,\n",
    "                    'push_count': push_count\n",
    "                })\n",
    "        else:\n",
    "           go_prev = True\n",
    "        \n",
    "    if(go_prev):\n",
    "        a = soup.find_all(\"a\",string=re.compile(\"‹ 上頁\"))\n",
    "        page = get_web_page(\"https://www.ptt.cc/\"+a[0]['href'])\n",
    "        articles.extend(get_articles(page,date))\n",
    "        \n",
    "    return articles"
   ]
  },
  {
   "cell_type": "code",
   "execution_count": 190,
   "metadata": {
    "collapsed": true
   },
   "outputs": [],
   "source": [
    "import os\n",
    "def send(post):\n",
    "    sendToFacebook(recipient,\"PTT訊息\\n%s\"%post['title'],\"https://www.ptt.cc/\"+post['href'])\n"
   ]
  },
  {
   "cell_type": "code",
   "execution_count": 191,
   "metadata": {
    "collapsed": true
   },
   "outputs": [],
   "source": [
    "def sendToFacebook(recipient,text,link):\n",
    "    api_url = 'https://graph.facebook.com/v2.10/me/messages?access_token=%s'%token\n",
    "    #print(api_url)\n",
    "    headers = {'Content-Type': 'application/json'}\n",
    "    payload = {\n",
    "      'recipient': {'id':recipient},\n",
    "      'tag':'TICKET_UPDATE',\n",
    "      'message':{\n",
    "       'attachment':{\n",
    "         \"type\":\"template\",\n",
    "         \"payload\":{\n",
    "            \"template_type\":\"button\",\n",
    "            \"text\":text,\n",
    "            \"buttons\":[\n",
    "              {\n",
    "                \"type\":\"web_url\",\n",
    "                \"url\":link,\n",
    "                \"title\":\"由此去\"\n",
    "              }\n",
    "            ]\n",
    "          }\n",
    "       }  \n",
    "      }\n",
    "      \n",
    "      \n",
    "    }\n",
    "    #print(payload)\n",
    "    r = requests.post(api_url,json=payload,headers=headers)\n",
    "    #print(r.text)\n",
    "    return True\n",
    "\n",
    "def sendText(recipient, text):\n",
    "    messageData = {'text':text}\n",
    "    sendToFacebook(recipient,messageData)"
   ]
  },
  {
   "cell_type": "code",
   "execution_count": 192,
   "metadata": {
    "collapsed": false
   },
   "outputs": [
    {
     "name": "stdout",
     "output_type": "stream",
     "text": [
      "已經出現過\n",
      "已經出現過\n",
      "已經出現過\n"
     ]
    }
   ],
   "source": [
    "page = get_web_page(url)\n",
    "if page:\n",
    "    date = time.strftime(\"%m/%d\").lstrip('0')  # 今天日期, 去掉開頭的 '0' 以符合 PTT 網站格式\n",
    "    current_articles = get_articles(page, date)\n",
    "#    for post in current_articles:\n",
    "#        print(post)\n",
    "    fname = \"./%s.log\"%date.replace(\"/\",\"_\")\n",
    "    links = []\n",
    "    if os.path.exists(fname):\n",
    "        with open(fname,'r') as f:\n",
    "            links = f.readlines()\n",
    "            links = [link[:-1] for link in links]\n",
    "    \n",
    "    for post in current_articles:\n",
    "        #if \"[售票]\" in post['title'] and \"綺貞\" in post['title']:                \n",
    "        if \"綺貞\" in post['title']:            \n",
    "            jump = False\n",
    "            for link in links:\n",
    "                if link == post['title']:\n",
    "                    print(\"已經出現過\")\n",
    "                    jump = True\n",
    "                if(jump):\n",
    "                    break\n",
    "            if(jump):\n",
    "                continue\n",
    "            with open(fname,\"a+\") as f:\n",
    "                f.write(\"%s\\n\"%post['title'])\n",
    "            send(post)\n",
    "            "
   ]
  }
 ],
 "metadata": {
  "kernelspec": {
   "display_name": "Python 3",
   "language": "python",
   "name": "python3"
  },
  "language_info": {
   "codemirror_mode": {
    "name": "ipython",
    "version": 3
   },
   "file_extension": ".py",
   "mimetype": "text/x-python",
   "name": "python",
   "nbconvert_exporter": "python",
   "pygments_lexer": "ipython3",
   "version": "3.5.2"
  }
 },
 "nbformat": 4,
 "nbformat_minor": 1
}
